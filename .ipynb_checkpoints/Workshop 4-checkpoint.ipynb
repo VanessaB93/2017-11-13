{
 "cells": [
  {
   "cell_type": "markdown",
   "metadata": {},
   "source": [
    "## Conversione di funzioni da Plasm a PyPlasm"
   ]
  },
  {
   "cell_type": "code",
   "execution_count": 1,
   "metadata": {},
   "outputs": [
    {
     "name": "stdout",
     "output_type": "stream",
     "text": [
      "Evaluating fenvs.py..\n",
      "...fenvs.py imported in 0.010083739898660253 seconds\n"
     ]
    }
   ],
   "source": [
    "from larlib import*"
   ]
  },
  {
   "cell_type": "markdown",
   "metadata": {
    "collapsed": true
   },
   "source": [
    "###### Definition of a column"
   ]
  },
  {
   "cell_type": "code",
   "execution_count": 2,
   "metadata": {
    "collapsed": true
   },
   "outputs": [],
   "source": [
    "def columna(dm,h,h_base):\n",
    "    cylindr = COMP([JOIN,TRUNCONE([dm/2,0.8*(dm/2),h])])(24)\n",
    "    torus_bot = COMP([JOIN,TORUS([dm/12,dm/2])])([8,24])\n",
    "    torus_top = COMP([JOIN,TORUS([0.8*(dm/12),0.8*(dm/12)])])([8,27])\n",
    "    base = COMP([T([1,2])([7*(dm/-12),7*(dm/-23)]),CUBOID])([7*(dm/6),7*(dm/6),h_base])\n",
    "    base_top = COMP([T([1,2])([7*(dm/-12),7*(dm/-12)]),CUBOID])([7*(dm/6),7*(dm/6),dm/6])\n",
    "    capital = SUM([COMP([JOIN,TRUNCONE([0.8*dm/2,1.2*dm/2,h/8])])(4),COMP([R([1,2])(PI/4),JOIN,TRUNCONE([0.8*dm/2,1.2*dm/2,h/8])])(4)])\n",
    "    \n",
    "    return TOP([TOP([TOP([TOP([TOP([base,torus_bot]),cylindr]),torus_top]),capital]),base_top])"
   ]
  },
  {
   "cell_type": "code",
   "execution_count": 7,
   "metadata": {},
   "outputs": [
    {
     "name": "stdout",
     "output_type": "stream",
     "text": [
      "Child 3\n",
      "Child 3\n"
     ]
    },
    {
     "data": {
      "text/plain": [
       "<pyplasm.xgepy.Hpc; proxy of <Swig Object of type 'std::shared_ptr< Hpc > *' at 0x000002003FA255D0> >"
      ]
     },
     "execution_count": 7,
     "metadata": {},
     "output_type": "execute_result"
    }
   ],
   "source": [
    "VIEW(columna(4,14,1))"
   ]
  },
  {
   "cell_type": "markdown",
   "metadata": {},
   "source": [
    "![\"Workshop 4.1\"](Workshop 4.1.jpg)"
   ]
  },
  {
   "cell_type": "markdown",
   "metadata": {},
   "source": [
    "###### Definition of an arch surface blending function"
   ]
  },
  {
   "cell_type": "code",
   "execution_count": 8,
   "metadata": {
    "collapsed": true
   },
   "outputs": [],
   "source": [
    "def ArchSurface(rr,w,h):\n",
    "    x1 = lambda u: rr*cos(u[0])\n",
    "    y1 = lambda u: rr*sin(u[0])\n",
    "    x2 = lambda u: (rr-w)*cos(u[0])\n",
    "    y2 = lambda u: (rr-w)*sin(u[0])\n",
    "    z = lambda u: h\n",
    "    \n",
    "    bz11 = BEZIER(S1)([CONS([x1,y1,z])])\n",
    "    bz12 = BEZIER(S1)([CONS([x2,y2,z])])\n",
    "    return BEZIER(S2)([bz11,bz12])"
   ]
  },
  {
   "cell_type": "markdown",
   "metadata": {},
   "source": [
    "###### Definition of an arch"
   ]
  },
  {
   "cell_type": "code",
   "execution_count": 9,
   "metadata": {
    "collapsed": true
   },
   "outputs": [],
   "source": [
    "def Arch(lenght,w,depth,angle):\n",
    "    radius = (lenght/2) / cos(angle/2)\n",
    "    domain2D = PROD([T(1)(angle/2)(INTERVALS(PI-angle)(16)), QUOTE([1])])\n",
    "    domain3D = PROD([domain2D, QUOTE([1])])\n",
    "    Surf3D_0 = ArchSurface(radius,w,0)\n",
    "    Surf3D_1 = ArchSurface(radius,w,depth)\n",
    "    SolidMap = BEZIER(S3)([Surf3D_0,Surf3D_1])\n",
    "    return MAP(SolidMap)(domain3D)"
   ]
  },
  {
   "cell_type": "code",
   "execution_count": 11,
   "metadata": {},
   "outputs": [
    {
     "data": {
      "text/plain": [
       "<pyplasm.xgepy.Hpc; proxy of <Swig Object of type 'std::shared_ptr< Hpc > *' at 0x000002003FA259F0> >"
      ]
     },
     "execution_count": 11,
     "metadata": {},
     "output_type": "execute_result"
    }
   ],
   "source": [
    "VIEW(Arch(10,1,1,0.5*PI))"
   ]
  },
  {
   "cell_type": "markdown",
   "metadata": {
    "collapsed": true
   },
   "source": [
    "![\"Workshop 4.2\"](Workshop 4.2.jpg)"
   ]
  },
  {
   "cell_type": "code",
   "execution_count": null,
   "metadata": {
    "collapsed": true
   },
   "outputs": [],
   "source": []
  }
 ],
 "metadata": {
  "kernelspec": {
   "display_name": "Python 3",
   "language": "python",
   "name": "python3"
  },
  "language_info": {
   "codemirror_mode": {
    "name": "ipython",
    "version": 3
   },
   "file_extension": ".py",
   "mimetype": "text/x-python",
   "name": "python",
   "nbconvert_exporter": "python",
   "pygments_lexer": "ipython3",
   "version": "3.6.3"
  }
 },
 "nbformat": 4,
 "nbformat_minor": 2
}
